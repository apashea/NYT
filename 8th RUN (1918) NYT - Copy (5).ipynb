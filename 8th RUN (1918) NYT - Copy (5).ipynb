{
 "cells": [
  {
   "cell_type": "markdown",
   "metadata": {},
   "source": [
    "## Topic Modelling Newspapers\n",
    "\n",
    "We are going to use this notebook to topic model our newspaper corpus. We start by setting up our imports."
   ]
  },
  {
   "cell_type": "code",
   "execution_count": 1,
   "metadata": {},
   "outputs": [
    {
     "name": "stderr",
     "output_type": "stream",
     "text": [
      "C:\\Users\\redab\\Anaconda3\\lib\\site-packages\\gensim\\utils.py:1212: UserWarning: detected Windows; aliasing chunkize to chunkize_serial\n",
      "  warnings.warn(\"detected Windows; aliasing chunkize to chunkize_serial\")\n"
     ]
    }
   ],
   "source": [
    "import gensim"
   ]
  },
  {
   "cell_type": "code",
   "execution_count": 2,
   "metadata": {},
   "outputs": [],
   "source": [
    "import spacy\n",
    "import os"
   ]
  },
  {
   "cell_type": "code",
   "execution_count": 3,
   "metadata": {},
   "outputs": [],
   "source": [
    "import xml.etree.ElementTree as ET"
   ]
  },
  {
   "cell_type": "markdown",
   "metadata": {},
   "source": [
    "### Accessing xml files\n",
    "\n",
    "In the following lines of code, we are going to assemble the important information from the xml files. The following lines of code iterates through every XML file and accesses it. But we only add it to our corpus if it is censorship related. The following method identifies this."
   ]
  },
  {
   "cell_type": "code",
   "execution_count": 4,
   "metadata": {},
   "outputs": [],
   "source": [
    "# corpus = {}"
   ]
  },
  {
   "cell_type": "code",
   "execution_count": 5,
   "metadata": {},
   "outputs": [],
   "source": [
    "def is_censorship(text):\n",
    "    # finds out whether censorship or not; for each additional word we wish to add to constrain our group,\n",
    "    # we add 'or \"word\" in text' before the final colon in the immediate line below\n",
    "    if \"censor\" in text or \"censorship\" in text:\n",
    "        return True\n",
    "    else:\n",
    "        return False"
   ]
  },
  {
   "cell_type": "code",
   "execution_count": 6,
   "metadata": {},
   "outputs": [],
   "source": [
    "def is_year(text):\n",
    "    years = [\"1918\"]\n",
    "    for year in years:\n",
    "        if year in text:\n",
    "            return True\n",
    "    return False"
   ]
  },
  {
   "cell_type": "code",
   "execution_count": null,
   "metadata": {},
   "outputs": [],
   "source": []
  },
  {
   "cell_type": "code",
   "execution_count": 7,
   "metadata": {},
   "outputs": [
    {
     "data": {
      "text/plain": [
       "True"
      ]
     },
     "execution_count": 7,
     "metadata": {},
     "output_type": "execute_result"
    }
   ],
   "source": [
    "is_censorship(\"censor censorship suppress ban\") # Here we can display individual texts in order to see if they fit within our 'is_censorship' group as defined above"
   ]
  },
  {
   "cell_type": "code",
   "execution_count": 8,
   "metadata": {},
   "outputs": [],
   "source": [
    "texts = [] # We are creating a list called \"text\""
   ]
  },
  {
   "cell_type": "code",
   "execution_count": 9,
   "metadata": {},
   "outputs": [],
   "source": [
    "# i = 0 # Here we include the entire NYT database in our corpus\n",
    "# files = {}\n",
    "# for folder in os.listdir(\"NYT\"):\n",
    "#     for filename in os.listdir(\"NYT/\" + folder):\n",
    "#         if filename.endswith(\".xml\"):\n",
    "#             tree = ET.parse(\"NYT/\" + folder + \"/\" +filename)\n",
    "#             root = tree.getroot()\n",
    "#             try:\n",
    "#                 if is_censorship(root[-1].text):\n",
    "#                     files[filename] = []\n",
    "#                     files[filename].append(root[-1].text)\n",
    "#                     files[filename].append(root[3].text)\n",
    "#                     files[filename].append(root[4].text)\n",
    "#                     # add it to corpus\n",
    "#             except IndexError:\n",
    "#                 continue"
   ]
  },
  {
   "cell_type": "code",
   "execution_count": 10,
   "metadata": {},
   "outputs": [],
   "source": [
    "i = 0 # Here we selectively add folders to our corpus\n",
    "files = {}\n",
    "folders = [\"NYT/sm_55428_1097/\", \"NYT/sm_55428_1098/\", \"NYT/sm_55428_1099/\", \"NYT/sm_55428_1100/\",  \"NYT/sm_55428_1101/\", \"NYT/sm_55428_1102/\", \"NYT/sm_55428_1103/\", \"NYT/sm_55428_1104/\", \"NYT/sm_55428_1105/\", \"NYT/sm_55428_1106/\", \"NYT/sm_55428_1109/\", \"NYT/sm_55428_1110/\", \"NYT/sm_55428_1111/\", \"NYT/sm_55428_1112/\", \"NYT/sm_55428_1113/\", \"NYT/sm_55428_1114/\", \"NYT/sm_55428_1116/\", \"NYT/sm_55428_1117/\", \"NYT/sm_55428_1118/\", \"NYT/sm_55428_1119/\", \"NYT/sm_55428_1120/\",]\n",
    "for folder in folders:\n",
    "    for filename in os.listdir(folder):\n",
    "        if filename.endswith(\".xml\"):\n",
    "            tree = ET.parse(folder +filename)\n",
    "            root = tree.getroot()\n",
    "            try:\n",
    "                if is_censorship(root[-1].text) and (is_year(root[3].text) or is_year(root[4].text)):\n",
    "                    files[filename] = []\n",
    "                    files[filename].append(root[-1].text)\n",
    "                    files[filename].append(root[3].text)\n",
    "                    files[filename].append(root[4].text)\n",
    "                # add it to corpus; '-1' signifies the last element in the .xml file, which is <FullText>\n",
    "            except IndexError:\n",
    "                continue\n",
    "#             i += 1 # for this version we only run 10000 iterations and break after th\n",
    "#         if i == 10004:\n",
    "#             break\n",
    "#     if i == 10004:\n",
    "#         break    "
   ]
  },
  {
   "cell_type": "code",
   "execution_count": 11,
   "metadata": {},
   "outputs": [],
   "source": [
    "# i = 0 # Here we selectively add folders to our corpus\n",
    "# folders = [\"NYT/sm_55428_1004/\",\"NYT/sm_55428_1005/\"]\n",
    "# for folder in folders:\n",
    "#     for filename in os.listdir(folder):\n",
    "#         if filename.endswith(\".txt\"):\n",
    "#             files[filename] = []\n",
    "#             try:\n",
    "#                 if is_censorship(filename):\n",
    "#                     file = open(filename, \"r\") \n",
    "#                     files[filename].append(file.read())\n",
    "#                 # add it to corpus; '-1' signifies the last element in the .xml file, which is <FullText>\n",
    "#             except IndexError:\n",
    "#                 continue\n",
    "#     i += 1 # for this version we only run 10000 iterations and break after th\n",
    "#     if i == 10004:\n",
    "#         break"
   ]
  },
  {
   "cell_type": "code",
   "execution_count": 12,
   "metadata": {},
   "outputs": [],
   "source": [
    "# os.listdir(\"NYT/sm_55428_1004/\") # to view lists"
   ]
  },
  {
   "cell_type": "code",
   "execution_count": 13,
   "metadata": {},
   "outputs": [
    {
     "name": "stdout",
     "output_type": "stream",
     "text": [
      "sm_55428_1114-19556.xml\tLocal Licenses Jumped From 8,780 in 1918, Gilchrist Reports.\tMay 29, 1922\n",
      "sm_55428_1114-22497.xml\tTalbot Mundy's Romance of Hira Singh--Latest Works of Fiction by Robert Stead, Caradoc Evans and, Others CAPEL SION LATEST WORKS OF FICTION THE COW PUNCHER \"POILU\" THE TEXAN THE THREE STRINGS THE CLOSE-UP NAMI-SAN CHILDREN OF EVE HARTLEY HOUSE WHAT IS LOVE? LATEST WORKS OF FICTION THE UNKNOWN WRESTLER THE LAWS OF CHANCE. ESMERALDA \"OVER THERE\" MY ERRATIC PAL\tDec 29, 1918\n",
      "sm_55428_1114-2426.xml\tLocal Licenses Jumped From 8,780 in 1918, Gilchrist Reports.\tMay 29, 1922\n",
      "sm_55428_1114-27612.xml\tDismay in Reichstag Over Separate Peace Overture--Kaiser's Fall Predicted. Urge Unity with Austrian Germans. Vienna Government Only on Paper. Strong Hint to Kaiser.\tOct 31, 1918\n",
      "sm_55428_1114-41504.xml\tUnofficial Report of Honor Given to Rainbow Chief of Staff.\tMar 16, 1918\n",
      "sm_55428_1116-12013.xml\tCaptures Over 1,800 of the Red Guard, Whose Forces Are Retreating.\tFeb 10, 1918\n",
      "sm_55428_1116-18867.xml\tLieut. Franchot to Read Letters Sent from the Camp.\tFeb 25, 1918\n",
      "sm_55428_1116-26431.xml\tMr. Baker Continues His Testimony on Clothing and Conditions in Camps. Corroborated by Rosenwald. Comment on Wood's Fitness. The Question of Overcrowding Baker Outlines Our War Plan; Points to Our Many Activities at the Front As to Camps in Tents. Camp Bo\tJan 29, 1918\n",
      "sm_55428_1116-26709.xml\tSherman Injects a Sharp Attack on Attorney General Gregory.SAYS HE SHIELDS ALIEN FOEInstances the Case of The Nashville Banner--Vote on Conference Report Today.\tMay 4, 1918\n",
      "sm_55428_1116-39613.xml\tOrder Signed by President Nov. 2 Executed by Burleson Yesterday. OTHER GOVERNMENTS JOIN Vigorous Protest by President Mackay of the Commercial Cable Company. WESTERN UNION IS SILENT Mr. Mackay Says Government Runs Telegraphs at a Loss and He Wants Lines Back. President Mackay Protests. BELATED SEIZURE OF CABLES\tNov 17, 1918\n",
      "sm_55428_1116-47952.xml\tSharp Encounters on the Marne Cost Enemy Three Machines-- Fought Over German Lines.\tJul 7, 1918\n",
      "sm_55428_1117-14048.xml\tCorrespondents Debate Relative Discomforts of the TwoHotels Where They Live.45 MILES FROM TRENCHESSafe Thus Far from German AirBombardment, Though NearbyTowns Have Been Attacked. Town's Motto Is Thrift. Discomfort in the Hotels. Praise for the Cures.\tMar 10, 1918\n",
      "sm_55428_1117-1826.xml\tMar 18, 1918\t19180318\n",
      "sm_55428_1117-24317.xml\tStarving Crowd of Them Had Surrounded Bread Carts and Clamored for Food.\tJul 22, 1918\n",
      "sm_55428_1117-27558.xml\tWould Muzzle the Press and Smother Criticism of Government, Johnson Declares.WATSON ATTACKS CREEL Reads Denver Editorials He Wroteand Characterizes Them \"FoulSlanders\" on Government. Fashion to Charge Disloyalty. Quotes Creel's Editorials. Called a \"Foul Slander.\"\tApr 5, 1918\n",
      "sm_55428_1117-32342.xml\tPhelps Collins Crowded Many Adventures Into His Short Army Career. ARRESTED FOR RASHNESS Fought in Disobedience of Orders and Was Court-Martialed, but Freed. Offered to Sail at Once. Arrested, Then Promoted.\tMar 22, 1918\n",
      "sm_55428_1117-33507.xml\tDec 23, 1918\t19181223\n",
      "sm_55428_1117-40014.xml\tRussian Pantomime, with Its Novel Music, Amuses and Charms at Metropolitan. DANCERS MIME FAIRY TALE Star Singers, Hidden Among Choristers on \"Bleachers,\" Are Rec ognized Only by Their Voices. Fifteen Recalls After Second Act. Opera Starts Heard and Not Seen. Russian Realism in Picture. Goes to War on Wooden Horse. Arch Novelty of Russia's Music.\tMar 7, 1918\n",
      "sm_55428_1117-42092.xml\tNew Government's First Manifestoes Were Full of Promises and Threats.VIGOROUS PLEA TO FARMERS Ebert-Haase Regime Laid Special Stress Upon the Farmers' DutyToward the People. Coax and Threaten Farmers Manifesto to the Prussians. Red Cross Dead Letter Post Office.\tDec 29, 1918\n",
      "sm_55428_1117-42620.xml\tGeneral, Denied Overseas Service, Visits President, but No Change of Status Announced.NOT ON PERSHING'S LISTImpression Conveyed at CapitalCommander Did Not WantWood, Bell, or Barry. Wood's Friends Indignant. WOOD LAYS CASE BEFORE WILSON Wood Highest in Rank. ROOSEVELT SILENT ON WOOD. But He Declares America Could Have Prevented the War.\tMay 29, 1918\n",
      "sm_55428_1117-620.xml\tCourse of Negotiatibns and Outside Interpretation of Them, Necessity of Definite Peace. What Article II. Provided. Bolshevist Official Rejection.\tFeb 20, 1918\n",
      "sm_55428_1118-10693.xml\tBaker Cables That All Information Must Come from Pershing Hereafter.REASONS ARE NOT STATEDAll Matters Concerning TroopsAbroad to be Announcedby Commander. Official Information Scanty. CASUALTY LISTS PUT UNDER BAN News at Second Hand.\tApr 3, 1918\n",
      "sm_55428_1118-19494.xml\tProsecutor Says He Published Information About Army Plans. EXPERT ABSOLVES EDITOR But Gwynne Accepts the Responsibility for Defying theCensorship.\tFeb 17, 1918\n",
      "sm_55428_1118-20109.xml\tCzar's Plotting for Restoration of MonarchyDiscovered by Soviet.MILITARY CHIEFS INVOLVEDDeposed Autocrat Was ThenTried in Secret at Midnightby Red Tribunal.WIFE BAGGED FOR HIS LIFE Pathetic Picture of an Interview of His Sick Sonwith Him.\tDec 23, 1918\n",
      "sm_55428_1118-41652.xml\tSenate Disclosures of Waste Whet Anxiety at Capital for Further Facts. URGE ONE-MAN CONTROL Military Committee to Revive Demand Despite Some OfficialOpposition. CENSOR BARS NEWSPAPERS. Foreign Editions Held Up Without Notice to Publishers.\tAug 24, 1918\n",
      "sm_55428_1118-42045.xml\tStory of Friction and Jealousies Among Allies Caused Little Comment There. PASSED BY BRITISH CENSOR This Fact Halled as Forecasting Free Publication of News from the Peace Conclave.\tDec 23, 1918\n",
      "sm_55428_1119-14991.xml\tNavy Censor Makes Numerous Alterations in Regulations.\tMay 22, 1918\n",
      "sm_55428_1119-15953.xml\tThey Will Bring the Denouement as at Verdun, Says One Writer.\tMar 27, 1918\n",
      "sm_55428_1119-17817.xml\tJan 9, 1918\t19180109\n",
      "sm_55428_1119-19442.xml\tJan 24, 1918\t19180124\n",
      "sm_55428_1119-21520.xml\tCorrespondents Debate Relative Discomforts of the TwoHotels Where They Live.45 MILES FROM TRENCHESSafe Thus Far from German AirBombardment, Though NearbyTowns Have Been Attacked. Town's Motto Is Thrift. Discomfort in the Hotels. Praise for the Cures.\tMar 10, 1918\n",
      "sm_55428_1119-31952.xml\tGerman War Cabinet Decides to Allow Public Discussion of the Question. ANGER AT CROWN PRINCE Element in the New Government is Bent on Abolishing the Monarchy.REICHSTAG FOR DYNASTYPrince Max Asserts That a \"Real, Peaceful Revolution\"Has Come. Old Regime Gone, Max Declares. Reichstag for Retaining Kaiser. Ruler Loses Millitary Cabinet. Socialists Still for Abdication.\tNov 5, 1918\n",
      "sm_55428_1119-33890.xml\tSenators in Caucus Warn Administration of United Front on Reconstruction.CONGRESS TO BE ASSERTIVEOwnership of Railroads, Telegraphs, and Cables ChiefPoint of Contention.FACTIONS DISPLAY HARMONYUnexpected Accord Reigns in Caucus, but Fight on Penrose Is Likely to be Renewed. Adopts Six-Committee Plan. Talk of Peace Censorship. UTILITIES CONTROL CENTRE OF ATTACK Penrose to Fight. HURRY CALL FOR HAYS. Chairman Goes to Washington to Quell Republican Row.\tNov 20, 1918\n",
      "sm_55428_1119-36768.xml\tMay 22, 1918\t19180522\n",
      "sm_55428_1119-37767.xml\tParade, Sweeping Unceasingly Up Fifth Avenue, Emblematic of the Nation's Spirit. FOREIGN BORN ARE IN LINE More Than Forty Nationalities Represented in Wonderful Demonstration of Loyalty. AIRPLANES HOVER ABOVE Untiring Watchers Cheer Display of Nation's War Activities and Picture of the Nation Itself. Picture of Fighting America. Great Loyalty Parade of Foreigners Here a Demonstration of National Unity DAY-LONG PAGEANT UNITED FOR WAR Perfect Conditions for the Pageant. Start of the Parade. War Nurses in the Line. Real Doughnuts for the Crowds. Armenia's Appeal to America. Brilliant Swiss Display. Cheers for the British Division. Norway Defics U-Boat Pirates. 10,000 Italians in Line. Women March in Costume.\tJul 5, 1918\n",
      "sm_55428_1119-45802.xml\tChicago Tribune Correspondent Badly Injured Near Chateau-Thierry.18 EXPECTED TO RECOVER Despite Fractured Skull and theLoss of an Eye--FollowedVilla's Campaigns.\tJun 8, 1918\n"
     ]
    },
    {
     "name": "stdout",
     "output_type": "stream",
     "text": [
      "sm_55428_1119-49288.xml\tBaker Won't Reveal Details of Program, but Says Work Is Going Ahead. RUSHING PLANES FOR PERSHING GREAT WORK OF AIRPLANES. Major Baird Tells Parliament of the Accomplishments. AERO CLUB WIRES TO BAKER. Wants Him to Make a Public Statement on Our Air Program.\tFeb 22, 1918\n",
      "sm_55428_1120-13372.xml\tFearful in Austria of the Central Powers' Course Toward Them.\tJul 16, 1918\n",
      "sm_55428_1120-15165.xml\tJan 10, 1918\t19180110\n",
      "sm_55428_1120-17747.xml\tNewspapers Look to Fast-Increasing American Forces to TurnScale of War. SUPPRESSION, NOT CENSORSHIP Criticism of the New Attitude Toward Military Articles.\tJun 2, 1918\n",
      "sm_55428_1120-21801.xml\tPershing, in Awarding Cross to Chaplain of Old 69th, Tells of His Inspiring Bravery. MANY OTHERS ARE CITED Sergeant Frank Gardello Brought Down Two German Planes with a Machine Gun. Idolized by the Soldiers. Other Heroes Rewarded.\tSep 8, 1918\n",
      "sm_55428_1120-23586.xml\tOmitted for Candidates in the Military Course. Work of Regimental Family Units. Truer Than \"Le Feu.\" Praise for Army Hospital. A Name for the War.\tMay 25, 1918\n",
      "sm_55428_1120-25387.xml\tHead of Western Union Accepts Service as Joint Defendant with Burleson. MAY HASTEN COURT ACTION Canadian Opinion Said to be Adverse to American GovernmentOperation of Sea Lines. TELEPHONE RATES IN DOUBT. Officials Here Only Know 5-Cent Minimum Is Not Likely to be Cut.\tDec 17, 1918\n",
      "sm_55428_1120-2717.xml\tJournalists from Overseas Dominions Received by Royaltyand Otherwise Entertained.GREAT EDITORS AS HOSTSDinner for Them by Burnham andLuncheon by Northcliffe--Censorship Shoals Safely Passed. Subsidence of Snobbery. Controlled News Service Squelched.\tSep 15, 1918\n",
      "sm_55428_1120-29646.xml\tMrs. Alec Tweedie's New Year Message Is, Hurry Up! The Prussian Way. Colonel House in College. The Solid South. NORWAY AND AMERICA. A Reply to an Attack by a Norwegian Writer Called Forth by the Food Shipment Negotiations. THE RAILROADS. They Need a Unify\tJan 31, 1918\n",
      "sm_55428_1120-33258.xml\tSep 12, 1918\t19180912\n",
      "sm_55428_1120-35156.xml\tSocialist Leader Tells Parliament the People Will Fight for a Democratic State. REVOLT ALREADY REPORTED Announcement of Vienna Outbreak Attributed to a Bolshevist Source. CZERNIN UPHOLDS BERLIN Austria Will Stand by Her Allies to the End, He Tells a Deleg\tJan 25, 1918\n",
      "sm_55428_1120-35471.xml\tChange in Policy Forced by Events --Example Commended to America. Frank Discussion Advocated.\tMar 21, 1918\n",
      "sm_55428_1120-38061.xml\tAre in Doubt as to Who Is Qualified to Speak for People. MUST FRAME POLICY EARLY President Has Already Begun to Discuss the Subject with French Officials. LONDON SHOWS CONCERN Importance of Ending Chaos in Northern Country Now Fully Realized. BRITISH ARE WORRIED OVER RUSSIAN MUDDLE Opposition in Some Quarters to Intervention--Red Peril Pictured as Alarming. ALLIES PUZZLED BY RUSSIA\tDec 18, 1918\n",
      "sm_55428_1120-40066.xml\tBavarian Socialists Protest at Pro-War Attitude of the Majority Group. WANT GENERAL CONFERENCE Would Change \"Suicidal Policy\" Pursued by German Political Labor Leaders.\tJul 28, 1918\n",
      "sm_55428_1120-4315.xml\tJan 24, 1918\t19180124\n",
      "sm_55428_1120-44761.xml\tEx-Justice Stirs Publishers, Asserting That \"the Victory Is Ours.\" FAVORS A HUGE ARMY Would Send 5,000,000 MenAbroad to Overcome theGerman Foe.BAKER LAUDS OUR WORK Tells of Mammoth Preparations forMen at the Front--Daniels Pays Honest Criticism Defended. Hughes Discusses Sedition. Aimed Gun at Heart of France. Says Treason Must Be Punished. Sees Field for Honest Criticism. No Place for Partisanship. Says Country Should Have Facts. Trime of Rare Privilege. Favors Army of 5,000,000 Men. Daniels Tells of His Ambition. Editors as Creators. Sees a Loyal Press. Baker Praises the Navy. Would Organize American Opinion. Ambassador Jusserand's Message. A Message of Confidence.\tApr 26, 1918\n",
      "sm_55428_1120-44887.xml\tFeb 23, 1918\t19180223\n",
      "sm_55428_1120-49710.xml\tOfficers and Men of Reconnoissance Detail Undisturbedby Heavy Fire.JUDGE WHERE SHELLS FALLParty Learns to Tell by Sound ofOncoming Missile WhetherIt Spells Danger. Under Heavy Shelling. Shell Explosion Near By.\tMay 15, 1918\n",
      "sm_55428_1120-7058.xml\tStory of Friction and Jealousies Among Allies Caused Little Comment There. PASSED BY BRITISH CENSOR This Fact Halled as Forecasting Free Publication of News from the Peace Conclave.\tDec 23, 1918\n",
      "sm_55428_1120-9768.xml\tDelusions Explained by the Training and Environment of the Teutonic Race, Which Must Learn in the End That Its Ideas Are All Awry\tAug 4, 1918\n"
     ]
    }
   ],
   "source": [
    "for file in files: # Here we can see the list of articles that are related to censorship and will be topic modeled\n",
    "    print(file + \"\\t\" + files[file][1] + \"\\t\" + files[file][2])"
   ]
  },
  {
   "cell_type": "code",
   "execution_count": 14,
   "metadata": {},
   "outputs": [
    {
     "data": {
      "text/plain": [
       "56"
      ]
     },
     "execution_count": 14,
     "metadata": {},
     "output_type": "execute_result"
    }
   ],
   "source": [
    "len(files)"
   ]
  },
  {
   "cell_type": "code",
   "execution_count": 15,
   "metadata": {},
   "outputs": [],
   "source": [
    "months = [\"Jan\", \"Feb\", \"Mar\", \"Apr\", \"May\", \"Jun\", \"Jul\", \"Aug\", \"Sep\", \"Oct\", \"Nov\", \"Dec\"]"
   ]
  },
  {
   "cell_type": "code",
   "execution_count": 16,
   "metadata": {},
   "outputs": [],
   "source": [
    "years = {}"
   ]
  },
  {
   "cell_type": "code",
   "execution_count": 17,
   "metadata": {},
   "outputs": [
    {
     "name": "stdout",
     "output_type": "stream",
     "text": [
      "sm_55428_1114-19556.xml\t1922\n",
      "\n",
      "sm_55428_1114-22497.xml\t1918\n",
      "\n",
      "sm_55428_1114-2426.xml\t1922\n",
      "\n",
      "sm_55428_1114-27612.xml\t1918\n",
      "\n",
      "sm_55428_1114-41504.xml\t1918\n",
      "\n",
      "sm_55428_1116-12013.xml\t1918\n",
      "\n",
      "sm_55428_1116-18867.xml\t1918\n",
      "\n",
      "sm_55428_1116-26431.xml\t1918\n",
      "\n",
      "sm_55428_1116-26709.xml\t1918\n",
      "\n",
      "sm_55428_1116-39613.xml\t1918\n",
      "\n",
      "sm_55428_1116-47952.xml\t1918\n",
      "\n",
      "sm_55428_1117-14048.xml\t1918\n",
      "\n",
      "sm_55428_1117-1826.xml\t1918\n",
      "\n",
      "sm_55428_1117-24317.xml\t1918\n",
      "\n",
      "sm_55428_1117-27558.xml\t1918\n",
      "\n",
      "sm_55428_1117-32342.xml\tbut Freed. Offered to Sail at Once. Arrested\n",
      "\n",
      "sm_55428_1117-33507.xml\t1918\n",
      "\n",
      "sm_55428_1117-40014.xml\t1918\n",
      "\n",
      "sm_55428_1117-42092.xml\t1918\n",
      "\n",
      "sm_55428_1117-42620.xml\t1918\n",
      "\n",
      "sm_55428_1117-620.xml\t1918\n",
      "\n",
      "sm_55428_1118-10693.xml\t1918\n",
      "\n",
      "sm_55428_1118-19494.xml\t1918\n",
      "\n",
      "sm_55428_1118-20109.xml\t1918\n",
      "\n",
      "sm_55428_1118-41652.xml\t1918\n",
      "\n",
      "sm_55428_1118-42045.xml\t1918\n",
      "\n",
      "sm_55428_1119-14991.xml\t1918\n",
      "\n",
      "sm_55428_1119-15953.xml\t1918\n",
      "\n",
      "sm_55428_1119-17817.xml\t1918\n",
      "\n",
      "sm_55428_1119-19442.xml\t1918\n",
      "\n",
      "sm_55428_1119-21520.xml\t1918\n",
      "\n",
      "sm_55428_1119-31952.xml\t1918\n",
      "\n",
      "sm_55428_1119-33890.xml\t1918\n",
      "\n",
      "sm_55428_1119-36768.xml\t1918\n",
      "\n",
      "sm_55428_1119-37767.xml\tSweeping Unceasingly Up Fifth Avenue\n",
      "\n",
      "sm_55428_1119-45802.xml\t1918\n",
      "\n",
      "sm_55428_1119-49288.xml\t1918\n",
      "\n",
      "sm_55428_1120-13372.xml\t1918\n",
      "\n",
      "sm_55428_1120-15165.xml\t1918\n",
      "\n",
      "sm_55428_1120-17747.xml\t1918\n",
      "\n",
      "sm_55428_1120-21801.xml\t1918\n",
      "\n",
      "sm_55428_1120-23586.xml\t1918\n",
      "\n",
      "sm_55428_1120-25387.xml\t1918\n",
      "\n",
      "sm_55428_1120-2717.xml\t1918\n",
      "\n",
      "sm_55428_1120-29646.xml\t1918\n",
      "\n",
      "sm_55428_1120-33258.xml\t1918\n",
      "\n",
      "sm_55428_1120-35156.xml\t1918\n",
      "\n",
      "sm_55428_1120-35471.xml\t1918\n",
      "\n",
      "sm_55428_1120-38061.xml\t1918\n",
      "\n",
      "sm_55428_1120-40066.xml\t1918\n",
      "\n",
      "sm_55428_1120-4315.xml\t1918\n",
      "\n",
      "sm_55428_1120-44761.xml\t1918\n",
      "\n",
      "sm_55428_1120-44887.xml\t1918\n",
      "\n",
      "sm_55428_1120-49710.xml\t1918\n",
      "\n",
      "sm_55428_1120-7058.xml\t1918\n",
      "\n",
      "sm_55428_1120-9768.xml\t1918\n",
      "\n"
     ]
    }
   ],
   "source": [
    "for file in files:\n",
    "    for month in months:\n",
    "        try:\n",
    "            if month in files[file][1]:\n",
    "                year = files[file][1].split(\", \")[1]\n",
    "                break\n",
    "            if month in files[file][2]:\n",
    "                year = files[file][2].split(\", \")[1]\n",
    "                break\n",
    "        except IndexError:\n",
    "            continue\n",
    "    if year in years:\n",
    "        years[year] += 1\n",
    "    else:\n",
    "        years[year] = 1\n",
    "    print(file + \"\\t\" + year + \"\\n\")"
   ]
  },
  {
   "cell_type": "code",
   "execution_count": 18,
   "metadata": {
    "scrolled": true
   },
   "outputs": [],
   "source": [
    "# for line in open(\"1004-1119.txt\"):\n",
    "#     try:\n",
    "#         name, date1, date2 = line.split(\"\\t\")\n",
    "#     except ValueError:\n",
    "#         print(line)\n",
    "#     for month in months:\n",
    "#         if month in date1:\n",
    "#             try:\n",
    "#                 if date1.split(\", \")[1].isdigit():\n",
    "#                     year = date1.split(\", \")[1]\n",
    "#             except IndexError:\n",
    "#                 continue\n",
    "#             break\n",
    "#         if month in date2:\n",
    "#             try:\n",
    "#                 if date2.split(\", \")[1].isdigit():\n",
    "#                     year = date2.split(\", \")[1]\n",
    "#             except IndexError:\n",
    "#                 continue\n",
    "#             break\n",
    "#     if int(year) in years:\n",
    "#         years[int(year)] += 1\n",
    "#     else:\n",
    "#         years[int(year)] = 1\n",
    "        \n",
    "#     print(name + \"\\t\" + year)"
   ]
  },
  {
   "cell_type": "code",
   "execution_count": 19,
   "metadata": {
    "scrolled": true
   },
   "outputs": [
    {
     "data": {
      "text/plain": [
       "{'1922': 2,\n",
       " '1918': 52,\n",
       " 'but Freed. Offered to Sail at Once. Arrested': 1,\n",
       " 'Sweeping Unceasingly Up Fifth Avenue': 1}"
      ]
     },
     "execution_count": 19,
     "metadata": {},
     "output_type": "execute_result"
    }
   ],
   "source": [
    "years"
   ]
  },
  {
   "cell_type": "code",
   "execution_count": null,
   "metadata": {},
   "outputs": [],
   "source": []
  },
  {
   "cell_type": "code",
   "execution_count": 20,
   "metadata": {},
   "outputs": [
    {
     "name": "stdout",
     "output_type": "stream",
     "text": [
      "1918 : 52\n",
      "1922 : 2\n",
      "Sweeping Unceasingly Up Fifth Avenue : 1\n",
      "but Freed. Offered to Sail at Once. Arrested : 1\n"
     ]
    }
   ],
   "source": [
    "# sorted keys\n",
    "for key, value in sorted(years.items(), key=lambda x: x[0]): \n",
    "    print(\"{} : {}\".format(key, value))"
   ]
  },
  {
   "cell_type": "code",
   "execution_count": 21,
   "metadata": {},
   "outputs": [
    {
     "name": "stdout",
     "output_type": "stream",
     "text": [
      "but Freed. Offered to Sail at Once. Arrested : 1\n",
      "Sweeping Unceasingly Up Fifth Avenue : 1\n",
      "1922 : 2\n",
      "1918 : 52\n"
     ]
    }
   ],
   "source": [
    "# sorted values\n",
    "for key, value in sorted(years.items(), key=lambda x: x[1]): \n",
    "    print(\"{} : {}\".format(key, value))"
   ]
  },
  {
   "cell_type": "code",
   "execution_count": 22,
   "metadata": {},
   "outputs": [
    {
     "name": "stdout",
     "output_type": "stream",
     "text": [
      "true =  56 false =  0\n"
     ]
    }
   ],
   "source": [
    "t=0\n",
    "f=0\n",
    "\n",
    "for file in files:\n",
    "    if is_censorship(files[file][0]):\n",
    "        \n",
    "        t+=1\n",
    "    else:\n",
    "        f+=1\n",
    "print(\"true = \", t, \"false = \", f)"
   ]
  },
  {
   "cell_type": "code",
   "execution_count": 23,
   "metadata": {},
   "outputs": [],
   "source": [
    "# is_censorship(files[\"\"])"
   ]
  },
  {
   "cell_type": "code",
   "execution_count": 40,
   "metadata": {},
   "outputs": [
    {
     "data": {
      "text/plain": [
       "56"
      ]
     },
     "execution_count": 40,
     "metadata": {},
     "output_type": "execute_result"
    }
   ],
   "source": [
    "len(files)"
   ]
  },
  {
   "cell_type": "code",
   "execution_count": 25,
   "metadata": {},
   "outputs": [],
   "source": [
    "nlp = spacy.load(\"en\")"
   ]
  },
  {
   "cell_type": "code",
   "execution_count": 26,
   "metadata": {},
   "outputs": [],
   "source": [
    "# we add some words to the stop word list\n",
    "for file in files:\n",
    "    article = []\n",
    "    doc = nlp(files[file][0].lower())\n",
    "    for w in doc:\n",
    "        # if it's not a stop word or punctuation mark, add it to our article!\n",
    "        if not w.is_stop and not w.is_punct and not w.like_num and w.text != 'I' and not '&' in w.text and not ';' in w.text and not '$' in w.text and len(w.text) > 2 and not ' ' in w.text and not \"apos\" in w.text and not \"quot\" in w.text and not \"nos\" in w.text and not \"tlhe\" in w.text and not \"tlie\" in w.text and not \"tihe\" in w.text and not \"thie\" in w.text and not \"andl\" in w.text and not \"tile\" in w.text and not \"tho\" in w.text:\n",
    "            # we add the lematized version of the word\n",
    "            article.append(w.lemma_)\n",
    "    files[file].append(article)"
   ]
  },
  {
   "cell_type": "code",
   "execution_count": 27,
   "metadata": {},
   "outputs": [],
   "source": [
    "# stop word list changelog\n",
    "# 12/2: added \"apos\" and \"quot\" as undesirable remnants of .xml punctuation codings"
   ]
  },
  {
   "cell_type": "markdown",
   "metadata": {},
   "source": [
    "Now that we have our dirty corpus, let us now clean it.\n",
    "\n",
    "## Clean Corpus\n",
    "\n",
    "We will clean it by removing stop words, lemmatizing, removing punctuation, numbers, spaces, etc."
   ]
  },
  {
   "cell_type": "code",
   "execution_count": 28,
   "metadata": {},
   "outputs": [],
   "source": [
    "# iterate through corpus, clean code"
   ]
  },
  {
   "cell_type": "code",
   "execution_count": 29,
   "metadata": {},
   "outputs": [],
   "source": [
    "from gensim.corpora import Dictionary\n",
    "import gensim\n",
    "from gensim.models import CoherenceModel, LdaModel, LsiModel, HdpModel"
   ]
  },
  {
   "cell_type": "code",
   "execution_count": 30,
   "metadata": {},
   "outputs": [],
   "source": [
    "cleaned_texts = []"
   ]
  },
  {
   "cell_type": "code",
   "execution_count": 31,
   "metadata": {},
   "outputs": [],
   "source": [
    "for file in files:\n",
    "    cleaned_texts.append(files[file][3])"
   ]
  },
  {
   "cell_type": "code",
   "execution_count": 32,
   "metadata": {},
   "outputs": [],
   "source": [
    "bigram = gensim.models.Phrases(cleaned_texts)"
   ]
  },
  {
   "cell_type": "code",
   "execution_count": 33,
   "metadata": {},
   "outputs": [
    {
     "name": "stderr",
     "output_type": "stream",
     "text": [
      "C:\\Users\\redab\\Anaconda3\\lib\\site-packages\\gensim\\models\\phrases.py:598: UserWarning: For a faster implementation, use the gensim.models.phrases.Phraser class\n",
      "  warnings.warn(\"For a faster implementation, use the gensim.models.phrases.Phraser class\")\n"
     ]
    }
   ],
   "source": [
    "texts = [bigram[line] for line in cleaned_texts]"
   ]
  },
  {
   "cell_type": "code",
   "execution_count": 34,
   "metadata": {},
   "outputs": [],
   "source": [
    "dictionary = Dictionary(texts)\n",
    "corpus = [dictionary.doc2bow(text) for text in texts]"
   ]
  },
  {
   "cell_type": "code",
   "execution_count": 43,
   "metadata": {},
   "outputs": [],
   "source": [
    "ldamodel = LdaModel(corpus=corpus, num_topics=7, id2word=dictionary, passes=10)"
   ]
  },
  {
   "cell_type": "code",
   "execution_count": 44,
   "metadata": {
    "scrolled": true
   },
   "outputs": [
    {
     "data": {
      "text/plain": [
       "[(0,\n",
       "  '0.006*\"force\" + 0.005*\"general\" + 0.005*\"issue\" + 0.004*\"official\" + 0.004*\"ally\" + 0.004*\"information\" + 0.004*\"russia\" + 0.003*\"american\" + 0.003*\"give\" + 0.003*\"troop\"'),\n",
       " (1,\n",
       "  '0.009*\"general\" + 0.006*\"say\" + 0.005*\"american\" + 0.005*\"air\" + 0.005*\"officer\" + 0.004*\"military\" + 0.004*\"war\" + 0.004*\"report\" + 0.004*\"people\" + 0.004*\"german\"'),\n",
       " (2,\n",
       "  '0.007*\"say\" + 0.006*\"war\" + 0.006*\"german\" + 0.005*\"people\" + 0.005*\"man\" + 0.004*\"peace\" + 0.003*\"germany\" + 0.003*\"country\" + 0.003*\"state\" + 0.003*\"fight\"'),\n",
       " (3,\n",
       "  '0.007*\"man\" + 0.005*\"come\" + 0.005*\"american\" + 0.004*\"war\" + 0.004*\"division\" + 0.004*\"german\" + 0.004*\"woman\" + 0.004*\"parade\" + 0.003*\"story\" + 0.003*\"float\"'),\n",
       " (4,\n",
       "  '0.007*\"say\" + 0.006*\"german\" + 0.005*\"cable\" + 0.005*\"government\" + 0.005*\"senator\" + 0.004*\"line\" + 0.004*\"germany\" + 0.004*\"american\" + 0.003*\"committee\" + 0.003*\"time\"'),\n",
       " (5,\n",
       "  '0.009*\"camp\" + 0.008*\"man\" + 0.005*\"senator\" + 0.004*\"government\" + 0.004*\"think\" + 0.004*\"war\" + 0.004*\"country\" + 0.004*\"order\" + 0.004*\"hospital\" + 0.004*\"baker\"'),\n",
       " (6,\n",
       "  '0.008*\"czar\" + 0.004*\"say\" + 0.004*\"guard\" + 0.004*\"nichola\" + 0.003*\"family\" + 0.003*\"soviet\" + 0.003*\"day\" + 0.003*\"work\" + 0.003*\"red_guard\" + 0.002*\"time\"')]"
      ]
     },
     "execution_count": 44,
     "metadata": {},
     "output_type": "execute_result"
    }
   ],
   "source": [
    "ldamodel.show_topics()"
   ]
  },
  {
   "cell_type": "code",
   "execution_count": 37,
   "metadata": {},
   "outputs": [],
   "source": [
    "# list of stop words, following restriction of punctuation, spaces;\n",
    "# apos quot nos tlhe tlie tihe thie andl tile tho\n"
   ]
  }
 ],
 "metadata": {
  "kernelspec": {
   "display_name": "Python 3",
   "language": "python",
   "name": "python3"
  },
  "language_info": {
   "codemirror_mode": {
    "name": "ipython",
    "version": 3
   },
   "file_extension": ".py",
   "mimetype": "text/x-python",
   "name": "python",
   "nbconvert_exporter": "python",
   "pygments_lexer": "ipython3",
   "version": "3.7.0"
  }
 },
 "nbformat": 4,
 "nbformat_minor": 2
}
